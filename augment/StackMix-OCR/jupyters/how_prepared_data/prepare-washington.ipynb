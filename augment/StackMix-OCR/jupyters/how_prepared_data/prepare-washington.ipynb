{
 "cells": [
  {
   "cell_type": "code",
   "execution_count": 8,
   "metadata": {},
   "outputs": [
    {
     "name": "stdout",
     "output_type": "stream",
     "text": [
      "README.txt  data  ground_truth\tsets\r\n"
     ]
    }
   ],
   "source": [
    "!ls ../input/washingtondb-v1.0"
   ]
  },
  {
   "cell_type": "code",
   "execution_count": null,
   "metadata": {},
   "outputs": [],
   "source": []
  },
  {
   "cell_type": "code",
   "execution_count": 5,
   "metadata": {},
   "outputs": [],
   "source": [
    "import os\n",
    "import re\n",
    "import pandas as pd\n",
    "from glob import glob\n",
    "import cv2\n",
    "from tqdm import tqdm"
   ]
  },
  {
   "cell_type": "code",
   "execution_count": 6,
   "metadata": {},
   "outputs": [],
   "source": [
    "ROOT = f'../input/washingtondb-v1.0'"
   ]
  },
  {
   "cell_type": "code",
   "execution_count": null,
   "metadata": {},
   "outputs": [],
   "source": []
  },
  {
   "cell_type": "code",
   "execution_count": 152,
   "metadata": {},
   "outputs": [
    {
     "data": {
      "text/plain": [
       "(325, 168, 163)"
      ]
     },
     "execution_count": 152,
     "metadata": {},
     "output_type": "execute_result"
    }
   ],
   "source": [
    "sets = 'cv1'\n",
    "\n",
    "train_ids = [\n",
    "    image_id.strip() for image_id in open(f'{ROOT}/sets/{sets}/train.txt').readlines()\n",
    "]\n",
    "valid_ids = [\n",
    "    image_id.strip() for image_id in open(f'{ROOT}/sets/{sets}/valid.txt').readlines()\n",
    "]\n",
    "test_ids = [\n",
    "    image_id.strip() for image_id in open(f'{ROOT}/sets/{sets}/test.txt').readlines()\n",
    "]\n",
    "\n",
    "len(train_ids), len(valid_ids), len(test_ids)"
   ]
  },
  {
   "cell_type": "code",
   "execution_count": 182,
   "metadata": {},
   "outputs": [],
   "source": [
    "os.makedirs('prepared_datasets', exist_ok=True)\n",
    "!rm -rf 'prepared_datasets/washington'\n",
    "os.makedirs(f'prepared_datasets/washington', exist_ok=True)\n",
    "os.makedirs(f'prepared_datasets/washington/images', exist_ok=True)"
   ]
  },
  {
   "cell_type": "code",
   "execution_count": null,
   "metadata": {},
   "outputs": [],
   "source": []
  },
  {
   "cell_type": "code",
   "execution_count": 183,
   "metadata": {},
   "outputs": [
    {
     "name": "stderr",
     "output_type": "stream",
     "text": [
      "100%|██████████| 656/656 [00:00<00:00, 118787.01it/s]\n"
     ]
    },
    {
     "data": {
      "text/plain": [
       "train    325\n",
       "valid    168\n",
       "test     163\n",
       "Name: stage, dtype: int64"
      ]
     },
     "execution_count": 183,
     "metadata": {},
     "output_type": "execute_result"
    }
   ],
   "source": [
    "marking = []\n",
    "\n",
    "lines = open(f'{ROOT}/ground_truth/transcription.txt').readlines()\n",
    "\n",
    "for line in tqdm(lines):\n",
    "    sample_id, text = line.split()\n",
    "    text = (\n",
    "        text\n",
    "        .replace('-', '')\n",
    "        .replace('|', ' ')\n",
    "        .replace('s_pt', '.')\n",
    "        .replace('s_cm', ',')\n",
    "        .replace('s_mi', '-')\n",
    "        .replace('s_bl', '(')\n",
    "        .replace('s_br', ')')\n",
    "        .replace('s_etc', 'etc')\n",
    "        .replace('s_GW', 'G.W.')\n",
    "        .replace('s_0', '0')\n",
    "        .replace('s_1', '1')\n",
    "        .replace('s_2', '2')\n",
    "        .replace('s_3', '3')\n",
    "        .replace('s_4', '4')    \n",
    "        .replace('s_5', '5')\n",
    "        .replace('s_6', '6')\n",
    "        .replace('s_7', '7')\n",
    "        .replace('s_8', '8')\n",
    "        .replace('s_9', '9')\n",
    "        .replace('s_s', 's')\n",
    "        .replace('s_qt', \"'\")\n",
    "        .replace('s_qo', ':')\n",
    "        .replace('s_lb', '£')\n",
    "        .strip()\n",
    "    )\n",
    "    \n",
    "    if sample_id in train_ids:\n",
    "        stage = 'train'\n",
    "    elif sample_id in valid_ids:\n",
    "        stage = 'valid'\n",
    "    elif sample_id in test_ids:\n",
    "        stage = 'test'\n",
    "    else:\n",
    "        stage = 'unknown'\n",
    "    \n",
    "    marking.append({\n",
    "        'sample_id': sample_id,\n",
    "        'path': f'washington/images/{sample_id}.png',\n",
    "        'stage': stage,\n",
    "        'text': text,\n",
    "    })\n",
    "    \n",
    "#     !cp '../input/washingtondb-v1.0/data/line_images_normalized/{sample_id}.png' 'prepared_datasets/washington_{sets}/images/{sample_id}.png'\n",
    "    \n",
    "    \n",
    "marking = pd.DataFrame(marking).set_index('sample_id')\n",
    "marking['stage'].value_counts()"
   ]
  },
  {
   "cell_type": "code",
   "execution_count": 184,
   "metadata": {},
   "outputs": [],
   "source": [
    "!find \"../input/washingtondb-v1.0/data/line_images_normalized/\" -type f -name \"*.png\" -exec cp {} \"prepared_datasets/washington/images/\" \\; "
   ]
  },
  {
   "cell_type": "code",
   "execution_count": 185,
   "metadata": {},
   "outputs": [
    {
     "name": "stdout",
     "output_type": "stream",
     "text": [
      "sample_id: 278-19\n",
      "text: £1000 which I wrote for to pay off the Troops,\n",
      "image_shape: (120, 1447, 3)\n"
     ]
    },
    {
     "data": {
      "image/png": "[encoded data removed]",
      "text/plain": [
       "<Figure size 1440x360 with 1 Axes>"
      ]
     },
     "metadata": {},
     "output_type": "display_data"
    }
   ],
   "source": [
    "import matplotlib.pyplot as plt\n",
    "\n",
    "idx = 278\n",
    "\n",
    "sample = marking.iloc[idx]\n",
    "text = sample['text']\n",
    "image = cv2.imread(f'./prepared_datasets/{sample[\"path\"]}')\n",
    "\n",
    "print('sample_id:', sample.name)\n",
    "print('text:', text)\n",
    "print('image_shape:', image.shape)\n",
    "\n",
    "plt.figure(num=None, figsize=(12, 3), dpi=120, facecolor='w', edgecolor='k')\n",
    "plt.imshow(image);"
   ]
  },
  {
   "cell_type": "code",
   "execution_count": null,
   "metadata": {},
   "outputs": [],
   "source": []
  },
  {
   "cell_type": "code",
   "execution_count": 193,
   "metadata": {},
   "outputs": [
    {
     "data": {
      "text/plain": [
       "\" '(),-.0123456789:ABCDEFGHIJKLMNOPQRSTVWYabcdefghijklmnopqrstuvwxyz£\""
      ]
     },
     "execution_count": 193,
     "metadata": {},
     "output_type": "execute_result"
    }
   ],
   "source": [
    "chars = set()\n",
    "for text in marking['text']:\n",
    "    chars.update(text)\n",
    "    \n",
    "''.join(sorted(list(chars)))"
   ]
  },
  {
   "cell_type": "code",
   "execution_count": null,
   "metadata": {},
   "outputs": [],
   "source": []
  },
  {
   "cell_type": "code",
   "execution_count": 186,
   "metadata": {},
   "outputs": [],
   "source": [
    "for i, line in enumerate(lines):\n",
    "    sample_id, text = line.split()\n",
    "    text = (\n",
    "        text\n",
    "        .replace('-', '')\n",
    "        .replace('|', ' ')\n",
    "        .replace('s_pt', '.')\n",
    "        .replace('s_cm', ',')\n",
    "        .replace('s_mi', '-')\n",
    "        .replace('s_bl', '(')\n",
    "        .replace('s_br', ')')\n",
    "        .replace('s_etc', 'etc')\n",
    "        .replace('s_GW', 'G.W.')\n",
    "        .replace('s_0', '0')\n",
    "        .replace('s_1', '1')\n",
    "        .replace('s_2', '2')\n",
    "        .replace('s_3', '3')\n",
    "        .replace('s_4', '4')    \n",
    "        .replace('s_5', '5')\n",
    "        .replace('s_6', '6')\n",
    "        .replace('s_7', '7')\n",
    "        .replace('s_8', '8')\n",
    "        .replace('s_9', '9')\n",
    "        .replace('s_s', 's')\n",
    "        .replace('s_qt', \"'\")\n",
    "        .replace('s_qo', ':')\n",
    "        .replace('s_lb', '£')\n",
    "        .strip()\n",
    "    )\n",
    "    if 's_' in text:\n",
    "        print(i, text, line)"
   ]
  },
  {
   "cell_type": "code",
   "execution_count": 187,
   "metadata": {},
   "outputs": [],
   "source": [
    "marking.to_csv('./prepared_datasets/washington/marking.csv')"
   ]
  },
  {
   "cell_type": "code",
   "execution_count": 188,
   "metadata": {},
   "outputs": [
    {
     "name": "stdout",
     "output_type": "stream",
     "text": [
      "images\tmarking.csv\r\n"
     ]
    }
   ],
   "source": [
    "!cd ./prepared_datasets && ls washington"
   ]
  },
  {
   "cell_type": "code",
   "execution_count": 189,
   "metadata": {},
   "outputs": [],
   "source": [
    "!cd ./prepared_datasets && tar -czvf washington.tar.gz washington > /dev/null"
   ]
  },
  {
   "cell_type": "code",
   "execution_count": 190,
   "metadata": {},
   "outputs": [
    {
     "name": "stdout",
     "output_type": "stream",
     "text": [
      "1.8M\t./prepared_datasets/washington.tar.gz\r\n"
     ]
    }
   ],
   "source": [
    "!du -sh ./prepared_datasets/washington.tar.gz"
   ]
  },
  {
   "cell_type": "code",
   "execution_count": null,
   "metadata": {},
   "outputs": [],
   "source": []
  }
 ],
 "metadata": {
  "kernelspec": {
   "display_name": "Python 3",
   "language": "python",
   "name": "python3"
  },
  "language_info": {
   "codemirror_mode": {
    "name": "ipython",
    "version": 3
   },
   "file_extension": ".py",
   "mimetype": "text/x-python",
   "name": "python",
   "nbconvert_exporter": "python",
   "pygments_lexer": "ipython3",
   "version": "3.7.8"
  }
 },
 "nbformat": 4,
 "nbformat_minor": 4
}
